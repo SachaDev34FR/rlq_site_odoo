{
 "cells": [
  {
   "cell_type": "code",
   "execution_count": 1,
   "id": "aa06b2ba",
   "metadata": {},
   "outputs": [],
   "source": [
    "import pandas as pd\n",
    "import numpy as np\n",
    "\n",
    "import os "
   ]
  },
  {
   "cell_type": "code",
   "execution_count": 2,
   "id": "dda48f9c",
   "metadata": {},
   "outputs": [],
   "source": [
    "# data = {\n",
    "#     \"id\": [1, 2, 3, 4, 5],\n",
    "#     \"nom\": [\"Alice\", \"Bob\", \"Charlie\", \"Diana\", \"Eve\"],\n",
    "#     \"reponses_formulaire\": [\n",
    "#         [\"Oui\", \"Non\", \"Peut-être\", \"Oui\"],\n",
    "#         [\"Non\", \"Oui\", \"Oui\", \"Non\"],\n",
    "#         [\"Oui\", \"Oui\", \"Non\", \"Peut-être\"],\n",
    "#         [\"Non\", \"Peut-être\", \"Oui\", \"Oui\"],\n",
    "#         [\"Oui\", \"Non\", \"Non\", \"Non\"],\n",
    "#     ],\n",
    "# }"
   ]
  },
  {
   "cell_type": "code",
   "execution_count": 3,
   "id": "9d107f29",
   "metadata": {},
   "outputs": [],
   "source": [
    "# df = pd.DataFrame(data)\n",
    "# print(\"DataFrame original :\")\n",
    "# print(df)\n",
    "# print(\"\\n\" + \"=\" * 50 + \"\\n\")"
   ]
  },
  {
   "cell_type": "code",
   "execution_count": 4,
   "id": "1a60d126",
   "metadata": {},
   "outputs": [],
   "source": [
    "base_dir = \"/media/sacha/DATA_P21/projet_RLQ_Odoo_test\"\n",
    "output_dir = os.path.join(base_dir, \"output_files\")\n",
    "output_file = os.path.join(output_dir, \"event_registration_cleaned.xlsx\") \n",
    "output_file_filled = os.path.join(output_dir, \"event_registration_filled.xlsx\")\n",
    "output_file_pivot = os.path.join(output_dir, \"event_registration_pivot.xlsx\")"
   ]
  },
  {
   "cell_type": "code",
   "execution_count": 5,
   "id": "e4721643",
   "metadata": {},
   "outputs": [
    {
     "data": {
      "application/vnd.microsoft.datawrangler.viewer.v0+json": {
       "columns": [
        {
         "name": "index",
         "rawType": "int64",
         "type": "integer"
        },
        {
         "name": "actif",
         "rawType": "float64",
         "type": "float"
        },
        {
         "name": "cree_le",
         "rawType": "datetime64[ns]",
         "type": "datetime"
        },
        {
         "name": "nom_du_participant",
         "rawType": "object",
         "type": "unknown"
        },
        {
         "name": "reserve_par",
         "rawType": "object",
         "type": "unknown"
        },
        {
         "name": "email",
         "rawType": "object",
         "type": "unknown"
        },
        {
         "name": "telephone",
         "rawType": "object",
         "type": "unknown"
        },
        {
         "name": "nom_de_la_societe",
         "rawType": "object",
         "type": "unknown"
        },
        {
         "name": "evenement",
         "rawType": "object",
         "type": "unknown"
        },
        {
         "name": "ticket_devenement",
         "rawType": "object",
         "type": "unknown"
        },
        {
         "name": "reponses_des_participants",
         "rawType": "object",
         "type": "string"
        },
        {
         "name": "status",
         "rawType": "object",
         "type": "unknown"
        },
        {
         "name": "statut_de_la_vente",
         "rawType": "object",
         "type": "unknown"
        },
        {
         "name": "necessite_une_action",
         "rawType": "float64",
         "type": "float"
        }
       ],
       "ref": "7c063f7e-967a-4e3e-8582-2e60ef50e500",
       "rows": [
        [
         "0",
         "1.0",
         "2025-09-18 15:51:10",
         "Matuzalem Muller",
         "Matuzalem Muller",
         "matuzalem.santos@gmail.com",
         null,
         null,
         "Journée portes ouvertes sur Linux 2025 (418 places restantes)",
         "Visiteur (248 places restantes)",
         "Matuzalem Muller",
         "inscrit",
         "Gratuit",
         "0.0"
        ],
        [
         "1",
         null,
         null,
         null,
         null,
         null,
         null,
         null,
         null,
         null,
         "Matuzalem Muller",
         null,
         null,
         null
        ],
        [
         "2",
         null,
         null,
         null,
         null,
         null,
         null,
         null,
         null,
         null,
         "matuzalem.santos@gmail.com",
         null,
         null,
         null
        ],
        [
         "3",
         null,
         null,
         null,
         null,
         null,
         null,
         null,
         null,
         null,
         "Non",
         null,
         null,
         null
        ],
        [
         "4",
         null,
         null,
         null,
         null,
         null,
         null,
         null,
         null,
         null,
         "Oui",
         null,
         null,
         null
        ]
       ],
       "shape": {
        "columns": 13,
        "rows": 5
       }
      },
      "text/html": [
       "<div>\n",
       "<style scoped>\n",
       "    .dataframe tbody tr th:only-of-type {\n",
       "        vertical-align: middle;\n",
       "    }\n",
       "\n",
       "    .dataframe tbody tr th {\n",
       "        vertical-align: top;\n",
       "    }\n",
       "\n",
       "    .dataframe thead th {\n",
       "        text-align: right;\n",
       "    }\n",
       "</style>\n",
       "<table border=\"1\" class=\"dataframe\">\n",
       "  <thead>\n",
       "    <tr style=\"text-align: right;\">\n",
       "      <th></th>\n",
       "      <th>actif</th>\n",
       "      <th>cree_le</th>\n",
       "      <th>nom_du_participant</th>\n",
       "      <th>reserve_par</th>\n",
       "      <th>email</th>\n",
       "      <th>telephone</th>\n",
       "      <th>nom_de_la_societe</th>\n",
       "      <th>evenement</th>\n",
       "      <th>ticket_devenement</th>\n",
       "      <th>reponses_des_participants</th>\n",
       "      <th>status</th>\n",
       "      <th>statut_de_la_vente</th>\n",
       "      <th>necessite_une_action</th>\n",
       "    </tr>\n",
       "  </thead>\n",
       "  <tbody>\n",
       "    <tr>\n",
       "      <th>0</th>\n",
       "      <td>1.0</td>\n",
       "      <td>2025-09-18 15:51:10</td>\n",
       "      <td>Matuzalem Muller</td>\n",
       "      <td>Matuzalem Muller</td>\n",
       "      <td>matuzalem.santos@gmail.com</td>\n",
       "      <td>NaN</td>\n",
       "      <td>NaN</td>\n",
       "      <td>Journée portes ouvertes sur Linux 2025 (418 pl...</td>\n",
       "      <td>Visiteur (248 places restantes)</td>\n",
       "      <td>Matuzalem Muller</td>\n",
       "      <td>inscrit</td>\n",
       "      <td>Gratuit</td>\n",
       "      <td>0.0</td>\n",
       "    </tr>\n",
       "    <tr>\n",
       "      <th>1</th>\n",
       "      <td>NaN</td>\n",
       "      <td>NaT</td>\n",
       "      <td>NaN</td>\n",
       "      <td>NaN</td>\n",
       "      <td>NaN</td>\n",
       "      <td>NaN</td>\n",
       "      <td>NaN</td>\n",
       "      <td>NaN</td>\n",
       "      <td>NaN</td>\n",
       "      <td>Matuzalem Muller</td>\n",
       "      <td>NaN</td>\n",
       "      <td>NaN</td>\n",
       "      <td>NaN</td>\n",
       "    </tr>\n",
       "    <tr>\n",
       "      <th>2</th>\n",
       "      <td>NaN</td>\n",
       "      <td>NaT</td>\n",
       "      <td>NaN</td>\n",
       "      <td>NaN</td>\n",
       "      <td>NaN</td>\n",
       "      <td>NaN</td>\n",
       "      <td>NaN</td>\n",
       "      <td>NaN</td>\n",
       "      <td>NaN</td>\n",
       "      <td>matuzalem.santos@gmail.com</td>\n",
       "      <td>NaN</td>\n",
       "      <td>NaN</td>\n",
       "      <td>NaN</td>\n",
       "    </tr>\n",
       "    <tr>\n",
       "      <th>3</th>\n",
       "      <td>NaN</td>\n",
       "      <td>NaT</td>\n",
       "      <td>NaN</td>\n",
       "      <td>NaN</td>\n",
       "      <td>NaN</td>\n",
       "      <td>NaN</td>\n",
       "      <td>NaN</td>\n",
       "      <td>NaN</td>\n",
       "      <td>NaN</td>\n",
       "      <td>Non</td>\n",
       "      <td>NaN</td>\n",
       "      <td>NaN</td>\n",
       "      <td>NaN</td>\n",
       "    </tr>\n",
       "    <tr>\n",
       "      <th>4</th>\n",
       "      <td>NaN</td>\n",
       "      <td>NaT</td>\n",
       "      <td>NaN</td>\n",
       "      <td>NaN</td>\n",
       "      <td>NaN</td>\n",
       "      <td>NaN</td>\n",
       "      <td>NaN</td>\n",
       "      <td>NaN</td>\n",
       "      <td>NaN</td>\n",
       "      <td>Oui</td>\n",
       "      <td>NaN</td>\n",
       "      <td>NaN</td>\n",
       "      <td>NaN</td>\n",
       "    </tr>\n",
       "  </tbody>\n",
       "</table>\n",
       "</div>"
      ],
      "text/plain": [
       "   actif             cree_le nom_du_participant       reserve_par  \\\n",
       "0    1.0 2025-09-18 15:51:10   Matuzalem Muller  Matuzalem Muller   \n",
       "1    NaN                 NaT                NaN               NaN   \n",
       "2    NaN                 NaT                NaN               NaN   \n",
       "3    NaN                 NaT                NaN               NaN   \n",
       "4    NaN                 NaT                NaN               NaN   \n",
       "\n",
       "                        email telephone nom_de_la_societe  \\\n",
       "0  matuzalem.santos@gmail.com       NaN               NaN   \n",
       "1                         NaN       NaN               NaN   \n",
       "2                         NaN       NaN               NaN   \n",
       "3                         NaN       NaN               NaN   \n",
       "4                         NaN       NaN               NaN   \n",
       "\n",
       "                                           evenement  \\\n",
       "0  Journée portes ouvertes sur Linux 2025 (418 pl...   \n",
       "1                                                NaN   \n",
       "2                                                NaN   \n",
       "3                                                NaN   \n",
       "4                                                NaN   \n",
       "\n",
       "                 ticket_devenement   reponses_des_participants   status  \\\n",
       "0  Visiteur (248 places restantes)            Matuzalem Muller  inscrit   \n",
       "1                              NaN            Matuzalem Muller      NaN   \n",
       "2                              NaN  matuzalem.santos@gmail.com      NaN   \n",
       "3                              NaN                         Non      NaN   \n",
       "4                              NaN                         Oui      NaN   \n",
       "\n",
       "  statut_de_la_vente  necessite_une_action  \n",
       "0            Gratuit                   0.0  \n",
       "1                NaN                   NaN  \n",
       "2                NaN                   NaN  \n",
       "3                NaN                   NaN  \n",
       "4                NaN                   NaN  "
      ]
     },
     "execution_count": 5,
     "metadata": {},
     "output_type": "execute_result"
    }
   ],
   "source": [
    "df = pd.read_excel(output_file)\n",
    "df.head()"
   ]
  },
  {
   "cell_type": "code",
   "execution_count": 6,
   "id": "8d0abb3b",
   "metadata": {},
   "outputs": [],
   "source": [
    "# # MÉTHODE 1 : Utilisation de pd.DataFrame() directement sur la colonne\n",
    "# # Cette méthode est la plus simple et efficace\n",
    "# # print(\"MÉTHODE 1 : Conversion directe avec pd.DataFrame()\")\n",
    "# # print(\"-\" * 45)\n",
    "\n",
    "# # Convertir la colonne de listes en DataFrame séparé\n",
    "# # Chaque liste devient une ligne, chaque élément de la liste devient une colonne\n",
    "# colonnes_eclatees = pd.DataFrame(df[\"reponses_des_participants\"].tolist())\n",
    "\n",
    "# # Renommer les colonnes avec des noms explicites\n",
    "# colonnes_eclatees.columns = [\n",
    "#     f\"question_{i+1}\" for i in range(colonnes_eclatees.shape[1])\n",
    "# ]\n",
    "\n",
    "# # Concaténer avec le DataFrame original (en supprimant la colonne d'origine)\n",
    "# df_methode1 = pd.concat(\n",
    "#     [df.drop(\"reponses_des_participants\", axis=1), colonnes_eclatees], axis=1\n",
    "# )\n",
    "\n",
    "# print(\"Résultat méthode 1 :\")\n",
    "# print(df_methode1)\n",
    "# print(\"\\n\" + \"=\" * 50 + \"\\n\")"
   ]
  },
  {
   "cell_type": "markdown",
   "id": "aa1e52b6",
   "metadata": {},
   "source": [
    "======================================================================================="
   ]
  },
  {
   "cell_type": "code",
   "execution_count": 7,
   "id": "a694ee61",
   "metadata": {},
   "outputs": [],
   "source": [
    "#  # --- Créeons un exemple simple pour illustrer ---\n",
    "# data = {'colonne_A': [1, np.nan, np.nan, 4, np.nan],\n",
    "#         'colonne_B': ['a', 'b', np.nan, np.nan, 'e']}\n",
    "\n",
    "# df_exemple = pd.DataFrame(data)\n",
    "# print(\"--- DataFrame d'exemple AVANT remplissage ---\")\n",
    "# print(df_exemple)\n",
    "\n",
    "# # Appliquer la méthode forward fill\n",
    "# df_exemple_filled = df_exemple.fillna(method='ffill')\n",
    "    \n",
    "# print(\"\\n--- DataFrame d'exemple APRÈS remplissage ---\")\n",
    "# print(df_exemple_filled)\n",
    "   \n"
   ]
  },
  {
   "cell_type": "code",
   "execution_count": 8,
   "id": "0be6413c",
   "metadata": {},
   "outputs": [
    {
     "name": "stderr",
     "output_type": "stream",
     "text": [
      "/tmp/ipykernel_586195/3335472339.py:1: FutureWarning: DataFrame.fillna with 'method' is deprecated and will raise in a future version. Use obj.ffill() or obj.bfill() instead.\n",
      "  df_filled = df.fillna(method='ffill')\n"
     ]
    },
    {
     "data": {
      "application/vnd.microsoft.datawrangler.viewer.v0+json": {
       "columns": [
        {
         "name": "index",
         "rawType": "int64",
         "type": "integer"
        },
        {
         "name": "actif",
         "rawType": "float64",
         "type": "float"
        },
        {
         "name": "cree_le",
         "rawType": "datetime64[ns]",
         "type": "datetime"
        },
        {
         "name": "nom_du_participant",
         "rawType": "object",
         "type": "string"
        },
        {
         "name": "reserve_par",
         "rawType": "object",
         "type": "string"
        },
        {
         "name": "email",
         "rawType": "object",
         "type": "string"
        },
        {
         "name": "telephone",
         "rawType": "object",
         "type": "unknown"
        },
        {
         "name": "nom_de_la_societe",
         "rawType": "object",
         "type": "unknown"
        },
        {
         "name": "evenement",
         "rawType": "object",
         "type": "string"
        },
        {
         "name": "ticket_devenement",
         "rawType": "object",
         "type": "string"
        },
        {
         "name": "reponses_des_participants",
         "rawType": "object",
         "type": "string"
        },
        {
         "name": "status",
         "rawType": "object",
         "type": "string"
        },
        {
         "name": "statut_de_la_vente",
         "rawType": "object",
         "type": "string"
        },
        {
         "name": "necessite_une_action",
         "rawType": "float64",
         "type": "float"
        }
       ],
       "ref": "5fd3c23b-53aa-43a4-9fb5-ec476d4b825d",
       "rows": [
        [
         "0",
         "1.0",
         "2025-09-18 15:51:10",
         "Matuzalem Muller",
         "Matuzalem Muller",
         "matuzalem.santos@gmail.com",
         null,
         null,
         "Journée portes ouvertes sur Linux 2025 (418 places restantes)",
         "Visiteur (248 places restantes)",
         "Matuzalem Muller",
         "inscrit",
         "Gratuit",
         "0.0"
        ],
        [
         "1",
         "1.0",
         "2025-09-18 15:51:10",
         "Matuzalem Muller",
         "Matuzalem Muller",
         "matuzalem.santos@gmail.com",
         null,
         null,
         "Journée portes ouvertes sur Linux 2025 (418 places restantes)",
         "Visiteur (248 places restantes)",
         "Matuzalem Muller",
         "inscrit",
         "Gratuit",
         "0.0"
        ],
        [
         "2",
         "1.0",
         "2025-09-18 15:51:10",
         "Matuzalem Muller",
         "Matuzalem Muller",
         "matuzalem.santos@gmail.com",
         null,
         null,
         "Journée portes ouvertes sur Linux 2025 (418 places restantes)",
         "Visiteur (248 places restantes)",
         "matuzalem.santos@gmail.com",
         "inscrit",
         "Gratuit",
         "0.0"
        ],
        [
         "3",
         "1.0",
         "2025-09-18 15:51:10",
         "Matuzalem Muller",
         "Matuzalem Muller",
         "matuzalem.santos@gmail.com",
         null,
         null,
         "Journée portes ouvertes sur Linux 2025 (418 places restantes)",
         "Visiteur (248 places restantes)",
         "Non",
         "inscrit",
         "Gratuit",
         "0.0"
        ],
        [
         "4",
         "1.0",
         "2025-09-18 15:51:10",
         "Matuzalem Muller",
         "Matuzalem Muller",
         "matuzalem.santos@gmail.com",
         null,
         null,
         "Journée portes ouvertes sur Linux 2025 (418 places restantes)",
         "Visiteur (248 places restantes)",
         "Oui",
         "inscrit",
         "Gratuit",
         "0.0"
        ]
       ],
       "shape": {
        "columns": 13,
        "rows": 5
       }
      },
      "text/html": [
       "<div>\n",
       "<style scoped>\n",
       "    .dataframe tbody tr th:only-of-type {\n",
       "        vertical-align: middle;\n",
       "    }\n",
       "\n",
       "    .dataframe tbody tr th {\n",
       "        vertical-align: top;\n",
       "    }\n",
       "\n",
       "    .dataframe thead th {\n",
       "        text-align: right;\n",
       "    }\n",
       "</style>\n",
       "<table border=\"1\" class=\"dataframe\">\n",
       "  <thead>\n",
       "    <tr style=\"text-align: right;\">\n",
       "      <th></th>\n",
       "      <th>actif</th>\n",
       "      <th>cree_le</th>\n",
       "      <th>nom_du_participant</th>\n",
       "      <th>reserve_par</th>\n",
       "      <th>email</th>\n",
       "      <th>telephone</th>\n",
       "      <th>nom_de_la_societe</th>\n",
       "      <th>evenement</th>\n",
       "      <th>ticket_devenement</th>\n",
       "      <th>reponses_des_participants</th>\n",
       "      <th>status</th>\n",
       "      <th>statut_de_la_vente</th>\n",
       "      <th>necessite_une_action</th>\n",
       "    </tr>\n",
       "  </thead>\n",
       "  <tbody>\n",
       "    <tr>\n",
       "      <th>0</th>\n",
       "      <td>1.0</td>\n",
       "      <td>2025-09-18 15:51:10</td>\n",
       "      <td>Matuzalem Muller</td>\n",
       "      <td>Matuzalem Muller</td>\n",
       "      <td>matuzalem.santos@gmail.com</td>\n",
       "      <td>NaN</td>\n",
       "      <td>NaN</td>\n",
       "      <td>Journée portes ouvertes sur Linux 2025 (418 pl...</td>\n",
       "      <td>Visiteur (248 places restantes)</td>\n",
       "      <td>Matuzalem Muller</td>\n",
       "      <td>inscrit</td>\n",
       "      <td>Gratuit</td>\n",
       "      <td>0.0</td>\n",
       "    </tr>\n",
       "    <tr>\n",
       "      <th>1</th>\n",
       "      <td>1.0</td>\n",
       "      <td>2025-09-18 15:51:10</td>\n",
       "      <td>Matuzalem Muller</td>\n",
       "      <td>Matuzalem Muller</td>\n",
       "      <td>matuzalem.santos@gmail.com</td>\n",
       "      <td>NaN</td>\n",
       "      <td>NaN</td>\n",
       "      <td>Journée portes ouvertes sur Linux 2025 (418 pl...</td>\n",
       "      <td>Visiteur (248 places restantes)</td>\n",
       "      <td>Matuzalem Muller</td>\n",
       "      <td>inscrit</td>\n",
       "      <td>Gratuit</td>\n",
       "      <td>0.0</td>\n",
       "    </tr>\n",
       "    <tr>\n",
       "      <th>2</th>\n",
       "      <td>1.0</td>\n",
       "      <td>2025-09-18 15:51:10</td>\n",
       "      <td>Matuzalem Muller</td>\n",
       "      <td>Matuzalem Muller</td>\n",
       "      <td>matuzalem.santos@gmail.com</td>\n",
       "      <td>NaN</td>\n",
       "      <td>NaN</td>\n",
       "      <td>Journée portes ouvertes sur Linux 2025 (418 pl...</td>\n",
       "      <td>Visiteur (248 places restantes)</td>\n",
       "      <td>matuzalem.santos@gmail.com</td>\n",
       "      <td>inscrit</td>\n",
       "      <td>Gratuit</td>\n",
       "      <td>0.0</td>\n",
       "    </tr>\n",
       "    <tr>\n",
       "      <th>3</th>\n",
       "      <td>1.0</td>\n",
       "      <td>2025-09-18 15:51:10</td>\n",
       "      <td>Matuzalem Muller</td>\n",
       "      <td>Matuzalem Muller</td>\n",
       "      <td>matuzalem.santos@gmail.com</td>\n",
       "      <td>NaN</td>\n",
       "      <td>NaN</td>\n",
       "      <td>Journée portes ouvertes sur Linux 2025 (418 pl...</td>\n",
       "      <td>Visiteur (248 places restantes)</td>\n",
       "      <td>Non</td>\n",
       "      <td>inscrit</td>\n",
       "      <td>Gratuit</td>\n",
       "      <td>0.0</td>\n",
       "    </tr>\n",
       "    <tr>\n",
       "      <th>4</th>\n",
       "      <td>1.0</td>\n",
       "      <td>2025-09-18 15:51:10</td>\n",
       "      <td>Matuzalem Muller</td>\n",
       "      <td>Matuzalem Muller</td>\n",
       "      <td>matuzalem.santos@gmail.com</td>\n",
       "      <td>NaN</td>\n",
       "      <td>NaN</td>\n",
       "      <td>Journée portes ouvertes sur Linux 2025 (418 pl...</td>\n",
       "      <td>Visiteur (248 places restantes)</td>\n",
       "      <td>Oui</td>\n",
       "      <td>inscrit</td>\n",
       "      <td>Gratuit</td>\n",
       "      <td>0.0</td>\n",
       "    </tr>\n",
       "  </tbody>\n",
       "</table>\n",
       "</div>"
      ],
      "text/plain": [
       "   actif             cree_le nom_du_participant       reserve_par  \\\n",
       "0    1.0 2025-09-18 15:51:10   Matuzalem Muller  Matuzalem Muller   \n",
       "1    1.0 2025-09-18 15:51:10   Matuzalem Muller  Matuzalem Muller   \n",
       "2    1.0 2025-09-18 15:51:10   Matuzalem Muller  Matuzalem Muller   \n",
       "3    1.0 2025-09-18 15:51:10   Matuzalem Muller  Matuzalem Muller   \n",
       "4    1.0 2025-09-18 15:51:10   Matuzalem Muller  Matuzalem Muller   \n",
       "\n",
       "                        email telephone nom_de_la_societe  \\\n",
       "0  matuzalem.santos@gmail.com       NaN               NaN   \n",
       "1  matuzalem.santos@gmail.com       NaN               NaN   \n",
       "2  matuzalem.santos@gmail.com       NaN               NaN   \n",
       "3  matuzalem.santos@gmail.com       NaN               NaN   \n",
       "4  matuzalem.santos@gmail.com       NaN               NaN   \n",
       "\n",
       "                                           evenement  \\\n",
       "0  Journée portes ouvertes sur Linux 2025 (418 pl...   \n",
       "1  Journée portes ouvertes sur Linux 2025 (418 pl...   \n",
       "2  Journée portes ouvertes sur Linux 2025 (418 pl...   \n",
       "3  Journée portes ouvertes sur Linux 2025 (418 pl...   \n",
       "4  Journée portes ouvertes sur Linux 2025 (418 pl...   \n",
       "\n",
       "                 ticket_devenement   reponses_des_participants   status  \\\n",
       "0  Visiteur (248 places restantes)            Matuzalem Muller  inscrit   \n",
       "1  Visiteur (248 places restantes)            Matuzalem Muller  inscrit   \n",
       "2  Visiteur (248 places restantes)  matuzalem.santos@gmail.com  inscrit   \n",
       "3  Visiteur (248 places restantes)                         Non  inscrit   \n",
       "4  Visiteur (248 places restantes)                         Oui  inscrit   \n",
       "\n",
       "  statut_de_la_vente  necessite_une_action  \n",
       "0            Gratuit                   0.0  \n",
       "1            Gratuit                   0.0  \n",
       "2            Gratuit                   0.0  \n",
       "3            Gratuit                   0.0  \n",
       "4            Gratuit                   0.0  "
      ]
     },
     "execution_count": 8,
     "metadata": {},
     "output_type": "execute_result"
    }
   ],
   "source": [
    "df_filled = df.fillna(method='ffill')\n",
    "df_filled.head()"
   ]
  },
  {
   "cell_type": "code",
   "execution_count": 9,
   "id": "8f512e20",
   "metadata": {},
   "outputs": [],
   "source": [
    "df_filled.to_excel(output_file_filled, index=False)"
   ]
  },
  {
   "cell_type": "code",
   "execution_count": 10,
   "id": "9dcd4bec",
   "metadata": {},
   "outputs": [],
   "source": [
    "df_responses = df_filled[['nom_du_participant', 'email', 'reponses_des_participants']].copy()\n",
    "df_responses.dropna(subset=['reponses_des_participants'], inplace=True)\n",
    "df_responses[\"num_reponse\"] = df_responses.groupby(\n",
    "    [\"nom_du_participant\", \"email\"]\n",
    ").cumcount()"
   ]
  },
  {
   "cell_type": "code",
   "execution_count": 11,
   "id": "a0c963ff",
   "metadata": {},
   "outputs": [],
   "source": [
    "df_pivot = df_responses.pivot_table(\n",
    "        index=['nom_du_participant', 'email'],\n",
    "        columns='num_reponse',\n",
    "        values='reponses_des_participants',\n",
    "        aggfunc='first'  # On prend la première valeur (il ne devrait y en avoir qu'une)\n",
    "    ).reset_index()"
   ]
  },
  {
   "cell_type": "code",
   "execution_count": 12,
   "id": "2fb83f85",
   "metadata": {},
   "outputs": [
    {
     "name": "stdout",
     "output_type": "stream",
     "text": [
      "--- Tableau après pivot et renommage ---\n",
      "num_reponse nom_du_participant                       email         reponse_1  \\\n",
      "0                   Abdeljalil         a.cayer13@gmail.com        Abdeljalil   \n",
      "1                         Adam      amine.oufdou@gmail.com              Adam   \n",
      "2                        Amine      amine.oufdou@gmail.com             Amine   \n",
      "3             Andréanne Bigras  andreanne.bigras@gmail.com  Andréanne Bigras   \n",
      "4               Asma Benbrahem  asma.benbrahem@ensi-uma.tn    Asma Benbrahem   \n",
      "\n",
      "num_reponse         reponse_2                   reponse_3       reponse_4  \\\n",
      "0                       Cayer         a.cayer13@gmail.com             Oui   \n",
      "1                      OUFDOU      amine.oufdou@gmail.com             Oui   \n",
      "2                      OUFDOU      amine.oufdou@gmail.com             Oui   \n",
      "3            Andréanne Bigras  andreanne.bigras@gmail.com             Oui   \n",
      "4              Asma Benbrahem  asma.benbrahem@ensi-uma.tn  Oui, un laptop   \n",
      "\n",
      "num_reponse reponse_5                                       reponse_6  \\\n",
      "0                 Oui             Oui, je peux aider à l'organisation   \n",
      "1                 Oui             Oui, je peux aider à l'organisation   \n",
      "2                 Oui                    Oui, je peux installer Linux   \n",
      "3                 Oui  Oui, je peux aider à la journée de l'événement   \n",
      "4                 Oui                                             Oui   \n",
      "\n",
      "num_reponse                                        reponse_7 reponse_8  \\\n",
      "0                                                        NaN       NaN   \n",
      "1                                              Adam a 13 ans       NaN   \n",
      "2            Je serais acompagne par mon fils , Adam  13 ans       NaN   \n",
      "3                                                        Non       NaN   \n",
      "4                                                        NaN       NaN   \n",
      "\n",
      "num_reponse reponse_9 reponse_10 reponse_11 reponse_12 reponse_13 reponse_14  \n",
      "0                 NaN        NaN        NaN        NaN        NaN        NaN  \n",
      "1                 NaN        NaN        NaN        NaN        NaN        NaN  \n",
      "2                 NaN        NaN        NaN        NaN        NaN        NaN  \n",
      "3                 NaN        NaN        NaN        NaN        NaN        NaN  \n",
      "4                 NaN        NaN        NaN        NaN        NaN        NaN  \n"
     ]
    }
   ],
   "source": [
    "rename_dict = {col: f'reponse_{int(col) + 1}' for col in df_pivot.columns if isinstance(col, int)}\n",
    "df_pivot.rename(columns=rename_dict, inplace=True)\n",
    "\n",
    "print(\"--- Tableau après pivot et renommage ---\")\n",
    "print(df_pivot.head())\n"
   ]
  },
  {
   "cell_type": "code",
   "execution_count": 13,
   "id": "2568e2b5",
   "metadata": {},
   "outputs": [],
   "source": [
    "df_pivot.to_excel(output_file_pivot, index=False)"
   ]
  }
 ],
 "metadata": {
  "kernelspec": {
   "display_name": ".env_odoo",
   "language": "python",
   "name": "python3"
  },
  "language_info": {
   "codemirror_mode": {
    "name": "ipython",
    "version": 3
   },
   "file_extension": ".py",
   "mimetype": "text/x-python",
   "name": "python",
   "nbconvert_exporter": "python",
   "pygments_lexer": "ipython3",
   "version": "3.12.11"
  }
 },
 "nbformat": 4,
 "nbformat_minor": 5
}
