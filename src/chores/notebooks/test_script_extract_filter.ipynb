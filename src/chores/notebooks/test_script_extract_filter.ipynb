{
 "cells": [
  {
   "cell_type": "code",
   "execution_count": null,
   "id": "62cd38d1",
   "metadata": {},
   "outputs": [],
   "source": [
    "# import pandas as pd\n",
    "# import numpy as np"
   ]
  },
  {
   "cell_type": "code",
   "execution_count": null,
   "id": "493c0aac",
   "metadata": {},
   "outputs": [],
   "source": [
    "# import chardet\n",
    "\n",
    "# def detect_encoding(file_path):\n",
    "#     with open(file_path, 'rb') as f:\n",
    "#         detector = chardet.UniversalDetector()\n",
    "#         for line in f:\n",
    "#             detector.feed(line)\n",
    "#             if detector.done:\n",
    "#                 break\n",
    "#         detector.close()\n",
    "#     return detector.result\n",
    "\n",
    "# # Utilisation\n",
    "# encoding_info = detect_encoding(file_to_test)\n",
    "# print(f\"Encodage : {encoding_info['encoding']}\")"
   ]
  },
  {
   "cell_type": "code",
   "execution_count": null,
   "id": "541463e8",
   "metadata": {},
   "outputs": [],
   "source": [
    "# def process_and_filter_csv(input_file_path, output_directory, column_to_filter):\n",
    "#     \"\"\"\n",
    "#     Lit un fichier CSV, supprime les lignes dupliquées et crée un fichier CSV\n",
    "#     distinct pour chaque valeur unique d'une colonne spécifiée.\n",
    "\n",
    "#     :param input_file_path: Le chemin d'accès au fichier CSV d'entrée.\n",
    "#     :param output_directory: Le répertoire où sauvegarder les fichiers de sortie.\n",
    "#     :param column_to_filter: Le nom de la colonne à utiliser pour le filtrage.\n",
    "#     \"\"\"\n",
    "#     try:\n",
    "#         # 1. Lire le fichier CSV et le transformer en DataFrame Pandas\n",
    "#         # L'encodage 'utf-8' est spécifié pour garantir la compatibilité\n",
    "#         df = pd.read_excel(input_file_path, engine='openpyxl')\n",
    "\n",
    "#         print(f\"Fichier '{input_file_path}' lu avec succès. Nombre de lignes initiales : {len(df)}\")\n",
    "\n",
    "#         # 2. \n",
    "\n",
    "#         # 3. Filtrer les données selon les valeurs de la colonne et les exporter\n",
    "#         unique_values = df.unique()\n",
    "\n",
    "#         for value in unique_values:\n",
    "#             # Crée un DataFrame filtré pour la valeur actuelle\n",
    "#            \n",
    "#          \n",
    "#             \n",
    "\n",
    "#             # Exporte le DataFrame filtré vers un nouveau fichier CSV en UTF-8\n",
    "#             filtered_df.to_excel(output_file_path, index=False)\n",
    "#             print(f\"Fichier créé pour la valeur '{value}' : {output_file_path}\")\n",
    "\n",
    "#     except FileNotFoundError:\n",
    "#         print(f\"Erreur : Le fichier '{input_file_path}' est introuvable.\")\n",
    "#     except KeyError:\n",
    "#         print(f\"Erreur : La colonne '{column_to_filter}' n'existe pas dans le fichier Excel.\")\n",
    "#     except Exception as e:\n",
    "#         print(f\"Une erreur inattendue s'est produite : {e}\")\n",
    "\n",
    "# # --- Exemple d'utilisation du script ---\n",
    "# if __name__ == \"__main__\":\n",
    "#     # Définissez vos paramètres ici\n",
    "#     output_folder = \"filter_output.xlsx\"  # Remplacez par le répertoire de sortie souhaité\n",
    "#     colonne_a_filtrer = \"ticket_devenement\"  # Remplacez par le nom de la colonne que vous voulez filtrer (ex: 'statut', 'billet')\n",
    "\n",
    "#     process_and_filter_csv(file_to_filter, output_folder, colonne_a_filtrer)\n"
   ]
  },
  {
   "cell_type": "code",
   "execution_count": null,
   "id": "2dcfafc9",
   "metadata": {},
   "outputs": [],
   "source": [
    "\n",
    "# ajouter datetime dans le nom du fichier de sortie\n",
    "\n",
    "# fichier pour jose liste incrit present avec nom  et email\n",
    "\n",
    "# calcul random pour tirage au sort en retranchant les personnes deja tires au sort"
   ]
  }
 ],
 "metadata": {
  "kernelspec": {
   "display_name": ".env_odoo",
   "language": "python",
   "name": "python3"
  },
  "language_info": {
   "codemirror_mode": {
    "name": "ipython",
    "version": 3
   },
   "file_extension": ".py",
   "mimetype": "text/x-python",
   "name": "python",
   "nbconvert_exporter": "python",
   "pygments_lexer": "ipython3",
   "version": "3.12.11"
  }
 },
 "nbformat": 4,
 "nbformat_minor": 5
}
