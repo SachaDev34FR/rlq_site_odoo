{
 "cells": [
  {
   "cell_type": "markdown",
   "metadata": {},
   "source": [
    "# Tirage au sort des Participants\n",
    "\n",
    "Ce notebook décompose le script de tirage au sort, en utilisant des fichiers Excel et la bibliothèque `pandas`."
   ]
  },
  {
   "cell_type": "code",
   "execution_count": null,
   "metadata": {},
   "outputs": [],
   "source": [
    "import pandas as pd",
    "import os"
   ]
  },
  {
   "cell_type": "markdown",
   "metadata": {},
   "source": [
    "### Étape 1 : Définir les chemins des fichiers\n",
    "\n",
    "Nous définissons les noms des fichiers d'entrée (tous les participants) et de sortie (les gagnants). Nous spécifions également le nom de la colonne qui sert d'identifiant unique pour les tickets."
   ]
  },
  {
   "cell_type": "code",
   "execution_count": null,
   "metadata": {},
   "outputs": [],
   "source": [
    "# Définissez les noms de vos fichiers Excel",
    "nom_fichier_participants = \"participants.xlsx\"",
    "nom_fichier_gagnants = \"gagnants.xlsx\"",
    "colonne_id_ticket = \"numéro_ticket\" # Assurez-vous que ce nom de colonne est correct dans votre fichier"
   ]
  },
  {
   "cell_type": "markdown",
   "metadata": {},
   "source": [
    "### Étape 2 : Créer un fichier de participants pour le test\n",
    "\n",
    "Si le fichier de participants n'existe pas, nous en créons un pour pouvoir tester le script."
   ]
  },
  {
   "cell_type": "code",
   "execution_count": null,
   "metadata": {},
   "outputs": [],
   "source": [
    "if not os.path.exists(nom_fichier_participants):",
    "    print(f\"Création d'un fichier de test '{nom_fichier_participants}' ...\")",
    "    test_data = {",
    "        'nom': [f'Participant {i}' for i in range(1, 21)],",
    "        'mail': [f'participant{i}@example.com' for i in range(1, 21)],",
    "        'numéro_ticket': [f'TICKET-{100+i}' for i in range(1, 21)]",
    "    }",
    "    df_test = pd.DataFrame(test_data)",
    "    df_test.to_excel(nom_fichier_participants, index=False)",
    "    print(\"Fichier de test créé.\")",
    "    print(df_test.head())"
   ]
  },
  {
   "cell_type": "markdown",
   "metadata": {},
   "source": [
    "### Étape 3 : Charger les participants et les gagnants existants\n",
    "\n",
    "On charge le fichier de tous les participants. Ensuite, on vérifie si un fichier de gagnants existe déjà. Si c'est le cas, on le charge pour connaître les tickets qui ne sont plus éligibles."
   ]
  },
  {
   "cell_type": "code",
   "execution_count": null,
   "metadata": {},
   "outputs": [],
   "source": [
    "# Charger les participants depuis le fichier d'entrée",
    "try:",
    "    df_entree = pd.read_excel(nom_fichier_participants)",
    "    print(\"Fichier des participants chargé :\")",
    "    print(df_entree.head())",
    "except FileNotFoundError:",
    "    print(f\"Erreur : Le fichier d'entrée '{nom_fichier_participants}' n'a pas été trouvé.\")",
    "",
    "# Charger les gagnants existants pour les exclure du tirage",
    "tickets_gagnants_existants = []",
    "if os.path.exists(nom_fichier_gagnants):",
    "    df_gagnants_existants = pd.read_excel(nom_fichier_gagnants)",
    "    if not df_gagnants_existants.empty:",
    "        tickets_gagnants_existants = df_gagnants_existants[colonne_id_ticket].tolist()",
    "        print(\"\nGagnants existants chargés :\")",
    "        print(df_gagnants_existants)",
    "else:",
    "    print(\"\nAucun fichier de gagnants existant. C'est le premier tirage.\")"
   ]
  },
  {
   "cell_type": "markdown",
   "metadata": {},
   "source": [
    "### Étape 4 : Filtrer les participants éligibles\n",
    "\n",
    "On retire les participants ayant déjà gagné de la liste des participants."
   ]
  },
  {
   "cell_type": "code",
   "execution_count": null,
   "metadata": {},
   "outputs": [],
   "source": [
    "df_eligibles = df_entree[~df_entree[colonne_id_ticket].isin(tickets_gagnants_existants)]",
    "print(f\"Nombre de participants éligibles pour ce tirage : {len(df_eligibles)}\")",
    "print(\"Aperçu des participants éligibles :\")",
    "print(df_eligibles.head())"
   ]
  },
  {
   "cell_type": "markdown",
   "metadata": {},
   "source": [
    "### Étape 5 : Tirer au sort\n",
    "\n",
    "On définit le nombre de gagnants à tirer, puis on effectue le tirage au sort aléatoire parmi les participants éligibles."
   ]
  },
  {
   "cell_type": "code",
   "execution_count": null,
   "metadata": {},
   "outputs": [],
   "source": [
    "# Définir le nombre de gagnants à tirer pour cette exécution",
    "nb_gagnants_a_tirer = 2 # Vous pouvez changer ce nombre",
    "",
    "if len(df_eligibles) < nb_gagnants_a_tirer:",
    "    print(f\"Il n\'y a pas assez de participants éligibles pour tirer {nb_gagnants_a_tirer} gagnants.\")",
    "else:",
    "    df_nouveaux_gagnants = df_eligibles.sample(n=nb_gagnants_a_tirer)",
    "    print(f\"🎉 Les {nb_gagnants_a_tirer} nouveaux gagnants sont :\")",
    "    print(df_nouveaux_gagnants)"
   ]
  },
  {
   "cell_type": "markdown",
   "metadata": {},
   "source": [
    "### Étape 6 : Mettre à jour et sauvegarder la liste des gagnants\n",
    "\n",
    "On ajoute les nouveaux gagnants à la liste existante (s'il y en a une) et on sauvegarde le tout dans le fichier Excel des gagnants."
   ]
  },
  {
   "cell_type": "code",
   "execution_count": null,
   "metadata": {},
   "outputs": [],
   "source": [
    "if 'df_nouveaux_gagnants' in locals():",
    "    # Combiner les anciens et les nouveaux gagnants",
    "    if 'df_gagnants_existants' in locals() and not df_gagnants_existants.empty:",
    "        df_final_gagnants = pd.concat([df_gagnants_existants, df_nouveaux_gagnants], ignore_index=True)",
    "    else:",
    "        df_final_gagnants = df_nouveaux_gagnants",
    "",
    "    # Enregistrer la liste complète des gagnants dans le fichier de sortie",
    "    df_final_gagnants.to_excel(nom_fichier_gagnants, index=False)",
    "",
    "    print(f\"\nLa liste complète des gagnants a été mise à jour dans '{nom_fichier_gagnants}'.\")",
    "    print(\"Contenu final du fichier des gagnants :\")",
    "    print(df_final_gagnants)",
    "else:",
    "    print(\"\nAucun nouveau gagnant n'a été tiré.\")"
   ]
  }
 ],
 "metadata": {
  "kernelspec": {
   "display_name": ".env_odoo",
   "language": "python",
   "name": "python3"
  },
  "language_info": {
   "name": "python",
   "version": "3.12.11"
  }
 },
 "nbformat": 4,
 "nbformat_minor": 5
}