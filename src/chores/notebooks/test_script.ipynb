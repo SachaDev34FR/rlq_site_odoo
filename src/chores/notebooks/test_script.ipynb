{
 "cells": [
  {
   "cell_type": "code",
   "execution_count": 20,
   "id": "6f94d9e4-79d4-478d-8982-d9031312f8f1",
   "metadata": {},
   "outputs": [],
   "source": [
    "import os\n",
    "\n",
    "import pandas as pd\n",
    "import numpy as np\n",
    "import janitor\n",
    "import loguru\n",
    "from loguru import logger"
   ]
  },
  {
   "cell_type": "markdown",
   "id": "a2a3e6c5",
   "metadata": {},
   "source": [
    "#### Constantes pour constants.py"
   ]
  },
  {
   "cell_type": "code",
   "execution_count": 2,
   "id": "5df3ec68-7723-43c7-835e-b89ca07da289",
   "metadata": {},
   "outputs": [],
   "source": [
    "path_to_test = \"/media/sacha/DATA_P21/projet_RLQ_Odoo_test/input_files/\"\n",
    "file_to_test =  path_to_test + \"event_registration.xlsx\""
   ]
  },
  {
   "cell_type": "markdown",
   "id": "72497322",
   "metadata": {},
   "source": [
    "### initialisation des logs dasn le dossier logs/"
   ]
  },
  {
   "cell_type": "code",
   "execution_count": 21,
   "id": "a891ddc7",
   "metadata": {},
   "outputs": [],
   "source": [
    "# Initialisation du fichier log dans le dossier /logs et ajout de logs colorés\n",
    "\n",
    "log_dir = \"logs\"\n",
    "os.makedirs(log_dir, exist_ok=True)\n",
    "log_file = os.path.join(log_dir, \"notebook.log\")\n",
    "\n",
    "\n",
    "logger.remove()  # retire la configuration par défaut\n",
    "logger.add(log_file, rotation=\"1 MB\", retention=\"10 days\", level=\"INFO\", encoding=\"utf-8\")\n",
    "\n",
    "def log_colored(message, level=\"success\"):\n",
    "    if level == \"success\":\n",
    "        logger.opt(colors=True).success(f\"<green>{message}</green>\")\n",
    "    elif level == \"warning\":\n",
    "        logger.opt(colors=True).warning(f\"<yellow>{message}</yellow>\")\n",
    "    elif level == \"error\":\n",
    "        logger.opt(colors=True).error(f\"<red>{message}</red>\")\n",
    "    else:\n",
    "        logger.info(message)\n",
    "\n",
    "# Exemples d'utilisation :\n",
    "log_colored(\"Opération réussie.\", \"success\")\n",
    "log_colored(\"Attention : vérifiez les données.\", \"warning\")\n",
    "log_colored(\"Erreur lors du traitement.\", \"error\")\n",
    "\n",
    "# Exemple d'utilisation après une clause except :\n",
    "# except Exception as e:\n",
    "#     logger.exception(f\"Une erreur est survenue : {e}\")\n",
    "#     print(f\"Une erreur est survenue : {e}\")"
   ]
  },
  {
   "cell_type": "markdown",
   "id": "e2848fef",
   "metadata": {},
   "source": [
    "#### Lecture du fichier et renommage du fichier en event_registration.xlsx"
   ]
  },
  {
   "cell_type": "code",
   "execution_count": null,
   "id": "06a7b5ca",
   "metadata": {
    "vscode": {
     "languageId": "coffeescript"
    }
   },
   "outputs": [],
   "source": [
    "\n",
    "# Nouveau nom souhaité pour le fichier.\n",
    "new_filename = \"event_registration.xlsx\"\n",
    "\n",
    "# --- Logique du script ---\n",
    "\n",
    "print(f\"Vérification du dossier '{path_to_test}'...\")\n",
    "\n",
    "# S'assurer que le dossier d'entrée existe, sinon le créer.\n",
    "if not os.path.isdir(path_to_test):\n",
    "    log_colored(f\"Le dossier '{path_to_test}' n'a pas été trouvé. Création du dossier.\", \"warning\")\n",
    "    os.makedirs(path_to_test)\n",
    "    log_colored(\n",
    "        f\"--> Veuillez maintenant placer un fichier dans le dossier '{path_to_test}' et ré-exécuter la cellule.\",\n",
    "        \"warning\"\n",
    "    )\n",
    "else:\n",
    "    try:\n",
    "        # Lister les fichiers dans le dossier (en excluant les sous-dossiers).\n",
    "        files_in_dir = [\n",
    "            f\n",
    "            for f in os.listdir(path_to_test)\n",
    "            if os.path.isfile(os.path.join(path_to_test, f))\n",
    "        ]\n",
    "\n",
    "        # Gérer les différents cas.\n",
    "        if len(files_in_dir) == 0:\n",
    "            log_colored(f\"Aucun fichier trouvé dans le dossier '{path_to_test}'.\"), \"error\"\n",
    "            log_colored(f\"--> Veuillez placer un fichier dans le dossier '{path_to_test}' et ré-exécuter la cellule.\", \"error\")\n",
    "\n",
    "        elif len(files_in_dir) > 1:\n",
    "            log_colored(\n",
    "                f\"ERREUR : Plusieurs fichiers trouvés dans '{path_to_test}'. Le script ne peut en traiter qu'un seul à la fois.\",\n",
    "                \"error\"\n",
    "            )\n",
    "            log_colored(\"Fichiers trouvés :\", files_in_dir,\"success\")\n",
    "\n",
    "        else:\n",
    "            # Il y a exactement un fichier, on peut le renommer.\n",
    "            original_filename = files_in_dir[0]\n",
    "\n",
    "            # Construire les chemins complets (ancien et nouveau).\n",
    "            old_filepath = os.path.join(path_to_test, original_filename)\n",
    "            new_filepath = os.path.join(path_to_test, new_filename)\n",
    "\n",
    "            # Vérifier si le fichier a déjà le bon nom.\n",
    "            if old_filepath == new_filepath:\n",
    "                log_colored(\n",
    "                    f\"Le fichier est déjà nommé '{new_filename}'. Aucune action nécessaire.\",\n",
    "                    \"warning\"\n",
    "                )\n",
    "            else:\n",
    "                # Renommer le fichier.\n",
    "                os.rename(old_filepath, new_filepath)\n",
    "                log_colored(\n",
    "                    f\"SUCCÈS : Le fichier '{original_filename}' a été renommé en '{new_filename}'.\",\n",
    "                    \"success\"\n",
    "                )\n",
    "\n",
    "    except OSError as e:\n",
    "        log_colored(f\"Une erreur système est survenue : {e}\",\"error\")"
   ]
  },
  {
   "cell_type": "markdown",
   "id": "256663f1",
   "metadata": {},
   "source": [
    "#### lecture du fichier event-registration.xlsx"
   ]
  },
  {
   "cell_type": "code",
   "execution_count": 4,
   "id": "a9c9035d",
   "metadata": {},
   "outputs": [
    {
     "data": {
      "application/vnd.microsoft.datawrangler.viewer.v0+json": {
       "columns": [
        {
         "name": "index",
         "rawType": "int64",
         "type": "integer"
        },
        {
         "name": "Actif",
         "rawType": "float64",
         "type": "float"
        },
        {
         "name": "Créé le",
         "rawType": "datetime64[ns]",
         "type": "datetime"
        },
        {
         "name": "Nom du participant",
         "rawType": "object",
         "type": "unknown"
        },
        {
         "name": "Réservé par",
         "rawType": "object",
         "type": "unknown"
        },
        {
         "name": "Email",
         "rawType": "object",
         "type": "unknown"
        },
        {
         "name": "Téléphone",
         "rawType": "object",
         "type": "unknown"
        },
        {
         "name": "Nom de la société",
         "rawType": "object",
         "type": "unknown"
        },
        {
         "name": "Événement",
         "rawType": "object",
         "type": "unknown"
        },
        {
         "name": "Ticket d'événement",
         "rawType": "object",
         "type": "unknown"
        },
        {
         "name": "Activités",
         "rawType": "float64",
         "type": "float"
        },
        {
         "name": "Réponses des participants",
         "rawType": "object",
         "type": "string"
        },
        {
         "name": "Status",
         "rawType": "object",
         "type": "unknown"
        },
        {
         "name": "Statut de la vente",
         "rawType": "object",
         "type": "unknown"
        },
        {
         "name": "Nécessite une action",
         "rawType": "float64",
         "type": "float"
        },
        {
         "name": "Activité exception décoration",
         "rawType": "float64",
         "type": "float"
        }
       ],
       "ref": "da9e7f45-a9b1-438c-b733-9a255cfaf68f",
       "rows": [
        [
         "0",
         "1.0",
         "2025-09-18 15:51:10",
         "Matuzalem Muller",
         "Matuzalem Muller",
         "matuzalem.santos@gmail.com",
         null,
         null,
         "Journée portes ouvertes sur Linux 2025 (418 places restantes)",
         "Visiteur (248 places restantes)",
         null,
         "Matuzalem Muller",
         "Inscrit",
         "Gratuit",
         "0.0",
         null
        ],
        [
         "1",
         null,
         null,
         null,
         null,
         null,
         null,
         null,
         null,
         null,
         null,
         "Matuzalem Muller",
         null,
         null,
         null,
         null
        ],
        [
         "2",
         null,
         null,
         null,
         null,
         null,
         null,
         null,
         null,
         null,
         null,
         "matuzalem.santos@gmail.com",
         null,
         null,
         null,
         null
        ],
        [
         "3",
         null,
         null,
         null,
         null,
         null,
         null,
         null,
         null,
         null,
         null,
         "Non",
         null,
         null,
         null,
         null
        ],
        [
         "4",
         null,
         null,
         null,
         null,
         null,
         null,
         null,
         null,
         null,
         null,
         "Oui",
         null,
         null,
         null,
         null
        ]
       ],
       "shape": {
        "columns": 15,
        "rows": 5
       }
      },
      "text/html": [
       "<div>\n",
       "<style scoped>\n",
       "    .dataframe tbody tr th:only-of-type {\n",
       "        vertical-align: middle;\n",
       "    }\n",
       "\n",
       "    .dataframe tbody tr th {\n",
       "        vertical-align: top;\n",
       "    }\n",
       "\n",
       "    .dataframe thead th {\n",
       "        text-align: right;\n",
       "    }\n",
       "</style>\n",
       "<table border=\"1\" class=\"dataframe\">\n",
       "  <thead>\n",
       "    <tr style=\"text-align: right;\">\n",
       "      <th></th>\n",
       "      <th>Actif</th>\n",
       "      <th>Créé le</th>\n",
       "      <th>Nom du participant</th>\n",
       "      <th>Réservé par</th>\n",
       "      <th>Email</th>\n",
       "      <th>Téléphone</th>\n",
       "      <th>Nom de la société</th>\n",
       "      <th>Événement</th>\n",
       "      <th>Ticket d'événement</th>\n",
       "      <th>Activités</th>\n",
       "      <th>Réponses des participants</th>\n",
       "      <th>Status</th>\n",
       "      <th>Statut de la vente</th>\n",
       "      <th>Nécessite une action</th>\n",
       "      <th>Activité exception décoration</th>\n",
       "    </tr>\n",
       "  </thead>\n",
       "  <tbody>\n",
       "    <tr>\n",
       "      <th>0</th>\n",
       "      <td>1.0</td>\n",
       "      <td>2025-09-18 15:51:10</td>\n",
       "      <td>Matuzalem Muller</td>\n",
       "      <td>Matuzalem Muller</td>\n",
       "      <td>matuzalem.santos@gmail.com</td>\n",
       "      <td>NaN</td>\n",
       "      <td>NaN</td>\n",
       "      <td>Journée portes ouvertes sur Linux 2025 (418 pl...</td>\n",
       "      <td>Visiteur (248 places restantes)</td>\n",
       "      <td>NaN</td>\n",
       "      <td>Matuzalem Muller</td>\n",
       "      <td>Inscrit</td>\n",
       "      <td>Gratuit</td>\n",
       "      <td>0.0</td>\n",
       "      <td>NaN</td>\n",
       "    </tr>\n",
       "    <tr>\n",
       "      <th>1</th>\n",
       "      <td>NaN</td>\n",
       "      <td>NaT</td>\n",
       "      <td>NaN</td>\n",
       "      <td>NaN</td>\n",
       "      <td>NaN</td>\n",
       "      <td>NaN</td>\n",
       "      <td>NaN</td>\n",
       "      <td>NaN</td>\n",
       "      <td>NaN</td>\n",
       "      <td>NaN</td>\n",
       "      <td>Matuzalem Muller</td>\n",
       "      <td>NaN</td>\n",
       "      <td>NaN</td>\n",
       "      <td>NaN</td>\n",
       "      <td>NaN</td>\n",
       "    </tr>\n",
       "    <tr>\n",
       "      <th>2</th>\n",
       "      <td>NaN</td>\n",
       "      <td>NaT</td>\n",
       "      <td>NaN</td>\n",
       "      <td>NaN</td>\n",
       "      <td>NaN</td>\n",
       "      <td>NaN</td>\n",
       "      <td>NaN</td>\n",
       "      <td>NaN</td>\n",
       "      <td>NaN</td>\n",
       "      <td>NaN</td>\n",
       "      <td>matuzalem.santos@gmail.com</td>\n",
       "      <td>NaN</td>\n",
       "      <td>NaN</td>\n",
       "      <td>NaN</td>\n",
       "      <td>NaN</td>\n",
       "    </tr>\n",
       "    <tr>\n",
       "      <th>3</th>\n",
       "      <td>NaN</td>\n",
       "      <td>NaT</td>\n",
       "      <td>NaN</td>\n",
       "      <td>NaN</td>\n",
       "      <td>NaN</td>\n",
       "      <td>NaN</td>\n",
       "      <td>NaN</td>\n",
       "      <td>NaN</td>\n",
       "      <td>NaN</td>\n",
       "      <td>NaN</td>\n",
       "      <td>Non</td>\n",
       "      <td>NaN</td>\n",
       "      <td>NaN</td>\n",
       "      <td>NaN</td>\n",
       "      <td>NaN</td>\n",
       "    </tr>\n",
       "    <tr>\n",
       "      <th>4</th>\n",
       "      <td>NaN</td>\n",
       "      <td>NaT</td>\n",
       "      <td>NaN</td>\n",
       "      <td>NaN</td>\n",
       "      <td>NaN</td>\n",
       "      <td>NaN</td>\n",
       "      <td>NaN</td>\n",
       "      <td>NaN</td>\n",
       "      <td>NaN</td>\n",
       "      <td>NaN</td>\n",
       "      <td>Oui</td>\n",
       "      <td>NaN</td>\n",
       "      <td>NaN</td>\n",
       "      <td>NaN</td>\n",
       "      <td>NaN</td>\n",
       "    </tr>\n",
       "  </tbody>\n",
       "</table>\n",
       "</div>"
      ],
      "text/plain": [
       "   Actif             Créé le Nom du participant       Réservé par  \\\n",
       "0    1.0 2025-09-18 15:51:10   Matuzalem Muller  Matuzalem Muller   \n",
       "1    NaN                 NaT                NaN               NaN   \n",
       "2    NaN                 NaT                NaN               NaN   \n",
       "3    NaN                 NaT                NaN               NaN   \n",
       "4    NaN                 NaT                NaN               NaN   \n",
       "\n",
       "                        Email Téléphone Nom de la société  \\\n",
       "0  matuzalem.santos@gmail.com       NaN               NaN   \n",
       "1                         NaN       NaN               NaN   \n",
       "2                         NaN       NaN               NaN   \n",
       "3                         NaN       NaN               NaN   \n",
       "4                         NaN       NaN               NaN   \n",
       "\n",
       "                                           Événement  \\\n",
       "0  Journée portes ouvertes sur Linux 2025 (418 pl...   \n",
       "1                                                NaN   \n",
       "2                                                NaN   \n",
       "3                                                NaN   \n",
       "4                                                NaN   \n",
       "\n",
       "                Ticket d'événement  Activités   Réponses des participants  \\\n",
       "0  Visiteur (248 places restantes)        NaN            Matuzalem Muller   \n",
       "1                              NaN        NaN            Matuzalem Muller   \n",
       "2                              NaN        NaN  matuzalem.santos@gmail.com   \n",
       "3                              NaN        NaN                         Non   \n",
       "4                              NaN        NaN                         Oui   \n",
       "\n",
       "    Status Statut de la vente  Nécessite une action  \\\n",
       "0  Inscrit            Gratuit                   0.0   \n",
       "1      NaN                NaN                   NaN   \n",
       "2      NaN                NaN                   NaN   \n",
       "3      NaN                NaN                   NaN   \n",
       "4      NaN                NaN                   NaN   \n",
       "\n",
       "   Activité exception décoration  \n",
       "0                            NaN  \n",
       "1                            NaN  \n",
       "2                            NaN  \n",
       "3                            NaN  \n",
       "4                            NaN  "
      ]
     },
     "execution_count": 4,
     "metadata": {},
     "output_type": "execute_result"
    }
   ],
   "source": [
    "df_to_test = pd.read_excel(file_to_test)\n",
    "df_to_test.head()"
   ]
  },
  {
   "cell_type": "markdown",
   "id": "1f9d9e59",
   "metadata": {},
   "source": [
    "#### cleaning des noms de colonnes"
   ]
  },
  {
   "cell_type": "code",
   "execution_count": 5,
   "id": "0f5f497b",
   "metadata": {},
   "outputs": [],
   "source": [
    "liste_df_columns = df_to_test.columns.tolist()\n",
    "log_colored(liste_df_columns, \"success\")"
   ]
  },
  {
   "cell_type": "code",
   "execution_count": 6,
   "id": "12d9089f",
   "metadata": {},
   "outputs": [],
   "source": [
    "df_clean_to_test = df_to_test.clean_names().remove_empty()"
   ]
  },
  {
   "cell_type": "code",
   "execution_count": 7,
   "id": "97f05b44",
   "metadata": {},
   "outputs": [],
   "source": [
    "liste_col_new_df = df_clean_to_test.columns.tolist()\n",
    "log_colored(liste_col_new_df, \"success\")"
   ]
  },
  {
   "cell_type": "markdown",
   "id": "becea9c1",
   "metadata": {},
   "source": [
    "#### Creation du fichier de sortie clean et du path de sortie"
   ]
  },
  {
   "cell_type": "code",
   "execution_count": 8,
   "id": "cdfe24dd",
   "metadata": {},
   "outputs": [],
   "source": [
    "output_dir = \"/media/sacha/DATA_P21/projet_RLQ_Odoo_test/ouput_files\"\n",
    "os.makedirs(output_dir, exist_ok=True)\n",
    "\n",
    "# Définir le chemin complet du fichier de sortie\n",
    "output_file_cleaned = os.path.join(output_dir, \"event_registration_cleaned.xlsx\")\n",
    "\n",
    "\n",
    "df_clean_to_test.to_excel(output_file_cleaned, index=False)\n",
    "\n",
    "log_colored(f\"Fichier nettoyé sauvegardé sous : {output_file_cleaned}\", \"success\")"
   ]
  },
  {
   "cell_type": "markdown",
   "id": "a9b42abe",
   "metadata": {},
   "source": [
    "#### Creation de la liste des type de participants"
   ]
  },
  {
   "cell_type": "code",
   "execution_count": 9,
   "id": "3160eea3",
   "metadata": {},
   "outputs": [],
   "source": [
    "liste_values_ticket = [\n",
    "    x for x in df_clean_to_test[\"ticket_devenement\"].unique() if str(x) != \"nan\"\n",
    "]\n",
    "log_colored(liste_values_ticket, \"success\")"
   ]
  },
  {
   "cell_type": "markdown",
   "id": "eea2c88a",
   "metadata": {},
   "source": [
    "#### Cleaning colonne Status"
   ]
  },
  {
   "cell_type": "code",
   "execution_count": 10,
   "id": "d51962d2",
   "metadata": {},
   "outputs": [],
   "source": [
    "df_clean_to_test['status'].unique()\n",
    "df_clean_to_test['status'].fillna(np.nan)\n",
    "df_clean_to_test['status'] = df_clean_to_test['status'].replace({np.nan: 'absent'})\n",
    "df_clean_to_test[\"status\"] = df_clean_to_test[\"status\"].replace({'Présent': \"present\"})\n",
    "df_clean_to_test[\"status\"] = df_clean_to_test[\"status\"].replace({\"Inscrit\": \"inscrit\"})\n",
    "liste_status = [x for x in df_clean_to_test['status'].unique()]\n",
    "log_colored(liste_status, \"success\")"
   ]
  },
  {
   "cell_type": "markdown",
   "id": "9f93798f",
   "metadata": {},
   "source": [
    "#### Creation des dataframes sponsor, benevoles et visiteurs "
   ]
  },
  {
   "cell_type": "code",
   "execution_count": 11,
   "id": "d465f4f2",
   "metadata": {},
   "outputs": [],
   "source": [
    "df_filter_sponsor = df_clean_to_test[df_clean_to_test['ticket_devenement'] == liste_values_ticket[1]]"
   ]
  },
  {
   "cell_type": "code",
   "execution_count": 12,
   "id": "b5372c81",
   "metadata": {},
   "outputs": [],
   "source": [
    "df_sponsors = df_filter_sponsor[df_filter_sponsor['status'] == 'present']\n",
    "log_colored(f\"Nombre de sponsors présents : {len(df_sponsors)}\", \"success\")"
   ]
  },
  {
   "cell_type": "code",
   "execution_count": 13,
   "id": "59f59975",
   "metadata": {},
   "outputs": [],
   "source": [
    "df_filter_benevoles = df_clean_to_test[\n",
    "    df_clean_to_test[\"ticket_devenement\"] == liste_values_ticket[2]\n",
    "]"
   ]
  },
  {
   "cell_type": "code",
   "execution_count": 14,
   "id": "9734fa15",
   "metadata": {},
   "outputs": [],
   "source": [
    "df_benevoles = df_filter_benevoles[df_filter_benevoles['status'] == 'present']\n",
    "log_colored(f\"Nombre de bénévoles présents : {len(df_benevoles)}\", \"success\")"
   ]
  },
  {
   "cell_type": "code",
   "execution_count": 15,
   "id": "a100770e",
   "metadata": {},
   "outputs": [
    {
     "data": {
      "text/plain": [
       "52"
      ]
     },
     "execution_count": 15,
     "metadata": {},
     "output_type": "execute_result"
    }
   ],
   "source": [
    "df_filter_visiteurs = df_clean_to_test[\n",
    "    df_clean_to_test[\"ticket_devenement\"] == liste_values_ticket[0]\n",
    "]\n",
    "len(df_filter_visiteurs)"
   ]
  },
  {
   "cell_type": "code",
   "execution_count": 16,
   "id": "5c87dde5",
   "metadata": {},
   "outputs": [],
   "source": [
    "df_visiteurs = df_filter_visiteurs[df_filter_visiteurs['status'] == 'present']\n",
    "log_colored(f\"Nombre de visiteurs présents : {len(df_visiteurs)}\", \"success\")"
   ]
  },
  {
   "cell_type": "markdown",
   "id": "ea3f0dd8",
   "metadata": {},
   "source": [
    "#### Creation des fichiers benevoles, sponsors et visiteurs"
   ]
  },
  {
   "cell_type": "code",
   "execution_count": 17,
   "id": "cdff2623",
   "metadata": {},
   "outputs": [],
   "source": [
    "output_file_sponsors = os.path.join(output_dir, \"event_registration_sponsors.xlsx\")\n",
    "df_sponsors.to_excel(output_file_sponsors, index=False)\n",
    "log_colored(f\"Fichier sponsors sauvegardé sous : {output_file_sponsors}\", \"success\")"
   ]
  },
  {
   "cell_type": "code",
   "execution_count": 18,
   "id": "cb906340",
   "metadata": {},
   "outputs": [],
   "source": [
    "output_file_benevoles = os.path.join(output_dir, \"event_registration_benevoles.xlsx\")\n",
    "df_benevoles.to_excel(output_file_benevoles, index=False)\n",
    "log_colored(f\"Fichier bénévoles sauvegardé sous : {output_file_benevoles}\", \"success\")"
   ]
  },
  {
   "cell_type": "code",
   "execution_count": 19,
   "id": "5121db13",
   "metadata": {},
   "outputs": [],
   "source": [
    "output_file_visiteurs = os.path.join(output_dir, \"event_registration_visiteurs.xlsx\")\n",
    "df_visiteurs.to_excel(output_file_visiteurs, index=False)\n",
    "log_colored(f\"Fichier visiteurs sauvegardé sous : {output_file_visiteurs}\", \"success\")"
   ]
  }
 ],
 "metadata": {
  "kernelspec": {
   "display_name": ".env_odoo",
   "language": "python",
   "name": "python3"
  },
  "language_info": {
   "codemirror_mode": {
    "name": "ipython",
    "version": 3
   },
   "file_extension": ".py",
   "mimetype": "text/x-python",
   "name": "python",
   "nbconvert_exporter": "python",
   "pygments_lexer": "ipython3",
   "version": "3.12.11"
  }
 },
 "nbformat": 4,
 "nbformat_minor": 5
}
