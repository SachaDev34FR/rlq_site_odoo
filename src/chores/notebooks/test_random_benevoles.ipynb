{
 "cells": [
  {
   "cell_type": "markdown",
   "metadata": {},
   "source": [
    "# Tirage au sort des Bénévoles (max 2 gains par personne)\n",
    "\n",
    "Ce notebook décompose le script de tirage au sort pour les bénévoles, qui inclut une règle spéciale : une même personne ne peut pas gagner plus de deux fois."
   ]
  },
  {
   "cell_type": "code",
   "execution_count": null,
   "metadata": {},
   "outputs": [],
   "source": [
    "import pandas as pd",
    "import os"
   ]
  },
  {
   "cell_type": "markdown",
   "metadata": {},
   "source": [
    "### Étape 1 : Définir les chemins des fichiers",
    "Nous définissons les noms des fichiers pour les bénévoles et leurs gagnants, ainsi que la colonne contenant leur nom."
   ]
  },
  {
   "cell_type": "code",
   "execution_count": null,
   "metadata": {},
   "outputs": [],
   "source": [
    "nom_fichier_benevoles = \"benevoles.xlsx\"",
    "nom_fichier_gagnants = \"gagnants_benevoles.xlsx\"",
    "colonne_nom_benevole = \"nom\""
   ]
  },
  {
   "cell_type": "markdown",
   "metadata": {},
   "source": [
    "### Étape 2 : Créer un fichier de test pour les bénévoles",
    "Si le fichier des bénévoles n'existe pas, nous en créons un pour les tests. Chaque bénévole aura plusieurs tickets."
   ]
  },
  {
   "cell_type": "code",
   "execution_count": null,
   "metadata": {},
   "outputs": [],
   "source": [
    "if not os.path.exists(nom_fichier_benevoles):",
    "    print(f\"Création d'un fichier de test '{nom_fichier_benevoles}' ...\")",
    "    test_data = {",
    "        'nom': [f'Benevole {i}' for i in range(1, 6)] * 4,  # 5 bénévoles, 4 tickets chacun",
    "        'mail': [f'benevole{i}@example.com' for i in range(1, 6)] * 4,,
    "        'numéro_ticket': [f'B-TICKET-{100 + i}' for i in range(20)]",
    "    }",
    "    df_test = pd.DataFrame(test_data)",
    "    df_test.to_excel(nom_fichier_benevoles, index=False)",
    "    print(\"Fichier de test pour les bénévoles créé.\")",
    "    print(df_test)"
   ]
  },
  {
   "cell_type": "markdown",
   "metadata": {},
   "source": [
    "### Étape 3 : Charger les données et compter les gains existants",
    "On charge la liste des bénévoles, puis on regarde le fichier des gagnants pour compter combien de fois chaque personne a déjà gagné."
   ]
  },
  {
   "cell_type": "code",
   "execution_count": null,
   "metadata": {},
   "outputs": [],
   "source": [
    "# Charger la liste des bénévoles",
    "try:",
    "    df_entree = pd.read_excel(nom_fichier_benevoles)",
    "    print(\"Fichier des bénévoles chargé.\")",
    "except FileNotFoundError:",
    "    print(f\"Erreur : Le fichier d'entrée '{nom_fichier_benevoles}' n'a pas été trouvé.\")",
    "",
    "# Compter les gains existants pour chaque bénévole",
    "gains_existants = {}",
    "if os.path.exists(nom_fichier_gagnants):",
    "    df_gagnants_existants = pd.read_excel(nom_fichier_gagnants)",
    "    if not df_gagnants_existants.empty:",
    "        gains_existants = df_gagnants_existants[colonne_nom_benevole].value_counts().to_dict()",
    "        print(\"\nGains existants par bénévole :\")",
    "        print(gains_existants)",
    "else:",
    "    print(\"\nAucun fichier de gagnants existant. C'est le premier tirage.\")"
   ]
  },
  {
   "cell_type": "markdown",
   "metadata": {},
   "source": [
    "### Étape 4 : Identifier et filtrer les bénévoles éligibles",
    "On identifie ceux qui ont déjà gagné 2 fois ou plus pour les exclure du tirage."
   ]
  },
  {
   "cell_type": "code",
   "execution_count": null,
   "metadata": {},
   "outputs": [],
   "source": [
    "# Identifier les bénévoles inéligibles",
    "benevoles_ineligibles = [nom for nom, count in gains_existants.items() if count >= 2]",
    "print(f\"Bénévoles ayant atteint la limite de 2 gains : {benevoles_ineligibles}\")",
    "",
    "# Filtrer pour ne garder que les bénévoles éligibles",
    "df_eligibles = df_entree[~df_entree[colonne_nom_benevole].isin(benevoles_ineligibles)]",
    "print(f\"\nNombre de tickets éligibles pour ce tirage : {len(df_eligibles)}\")",
    "print(\"Aperçu des tickets éligibles :\")",
    "print(df_eligibles.head())"
   ]
  },
  {
   "cell_type": "markdown",
   "metadata": {},
   "source": [
    "### Étape 5 : Tirer au sort",
    "On effectue le tirage au sort parmi la liste des tickets éligibles."
   ]
  },
  {
   "cell_type": "code",
   "execution_count": null,
   "metadata": {},
   "outputs": [],
   "source": [
    "# Définir le nombre de gagnants à tirer",
    "nb_gagnants_a_tirer = 1 # Vous pouvez changer ce nombre",
    "",
    "if len(df_eligibles) < nb_gagnants_a_tirer:",
    "    print(f\"Il n'y a pas assez de tickets éligibles pour tirer {nb_gagnants_a_tirer} gagnants.\")",
    "else:",
    "    df_nouveaux_gagnants = df_eligibles.sample(n=nb_gagnants_a_tirer)",
    "    print(f\"🎉 Les {nb_gagnants_a_tirer} nouveaux gagnants sont :\")",
    "    print(df_nouveaux_gagnants)"
   ]
  },
  {
   "cell_type": "markdown",
   "metadata": {},
   "source": [
    "### Étape 6 : Mettre à jour et sauvegarder la liste des gagnants",
    "On ajoute les nouveaux gagnants à la liste et on sauvegarde le fichier Excel."
   ]
  },
  {
   "cell_type": "code",
   "execution_count": null,
   "metadata": {},
   "outputs": [],
   "source": [
    "if 'df_nouveaux_gagnants' in locals():",
    "    # Combiner les anciens et les nouveaux gagnants",
    "    if 'df_gagnants_existants' in locals() and not df_gagnants_existants.empty:",
    "        df_final_gagnants = pd.concat([df_gagnants_existants, df_nouveaux_gagnants], ignore_index=True)",
    "    else:",
    "        df_final_gagnants = df_nouveaux_gagnants",
    "",
    "    # Enregistrer la liste complète",
    "    df_final_gagnants.to_excel(nom_fichier_gagnants, index=False)",
    "",
    "    print(f\"\nLa liste complète des gagnants a été mise à jour dans '{nom_fichier_gagnants}'.\")",
    "    print(\"Contenu final du fichier des gagnants :\")",
    "    print(df_final_gagnants)",
    "else:",
    "    print(\"\nAucun nouveau gagnant n'a été tiré.\")"
   ]
  }
 ],
 "metadata": {
  "kernelspec": {
   "display_name": ".env_odoo",
   "language": "python",
   "name": "python3"
  },
  "language_info": {
   "name": "python",
   "version": "3.12.11"
  }
 },
 "nbformat": 4,
 "nbformat_minor": 5
}