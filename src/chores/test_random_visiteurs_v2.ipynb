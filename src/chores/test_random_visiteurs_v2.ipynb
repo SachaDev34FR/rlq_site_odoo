{
 "cells": [
  {
   "cell_type": "markdown",
   "metadata": {},
   "source": [
    "# Tirage au sort des Participants (Visiteurs + Bénévoles)\n",
    "\n",
    "Ce notebook décompose le script de tirage au sort, en utilisant des fichiers Excel et la bibliothèque `pandas`. \n",
    "La liste des participants est une concaténation des visiteurs et des bénévoles."
   ]
  },
  {
   "cell_type": "code",
   "execution_count": null,
   "metadata": {},
   "outputs": [],
   "source": [
    "import pandas as pd",
    "import numpy as np",
    "import os",
    "from datetime import datetime"
   ]
  },
  {
   "cell_type": "markdown",
   "metadata": {},
   "source": [
    "### Étape 1 : Définir les chemins des fichiers",
    "\n",
    "Nous définissons les chemins pour les fichiers d'entrée (visiteurs et bénévoles) et le fichier de sortie pour les gagnants."
   ]
  },
  {
   "cell_type": "code",
   "execution_count": null,
   "metadata": {},
   "outputs": [],
   "source": [
    "# Définir les chemins",
    "base_dir = \"/media/sacha/DATA_P21/projet_RLQ_Odoo_test\"",
    "output_dir = os.path.join(base_dir, \"output_files\")",
    "",
    "# Les deux fichiers contenant les participants",
    "fichier_visiteurs = os.path.join(output_dir, \"event_registration_visiteurs.xlsx\")",
    "fichier_benevoles = os.path.join(output_dir, \"event_registration_benevoles.xlsx\")",
    "",
    "# Fichier pour les gagnants",
    "nom_fichier_gagnants = os.path.join(output_dir, \"gagnants_concatenes_\" + str(datetime.now().strftime(\"%Y%m%d_%H%M%S\")) + \".xlsx\")",
    "",
    "# Le nom de la colonne qui sert d\'identifiant unique",
    "colonne_id_ticket = \"numéro_ticket\""
   ]
  },
  {
   "cell_type": "markdown",
   "metadata": {},
   "source": [
    "### Étape 2 : Charger et Concaténer les listes de participants",
    "\n",
    "On charge les deux fichiers et on les fusionne en une seule liste de participants."
   ]
  },
  {
   "cell_type": "code",
   "execution_count": null,
   "metadata": {},
   "outputs": [],
   "source": [
    "# Charger les participants depuis les deux fichiers",
    "df_visiteurs = pd.DataFrame()",
    "df_benevoles = pd.DataFrame()",
    "",
    "try:",
    "    df_visiteurs = pd.read_excel(fichier_visiteurs)",
    "    print(f\"Fichier '{fichier_visiteurs}' chargé avec {len(df_visiteurs)} lignes.\")",
    "except FileNotFoundError:",
    "    print(f\"AVERTISSEMENT : Le fichier des visiteurs '{fichier_visiteurs}' n'a pas été trouvé.\")",
    "",
    "try:",
    "    df_benevoles = pd.read_excel(fichier_benevoles)",
    "    print(f\"Fichier '{fichier_benevoles}' chargé avec {len(df_benevoles)} lignes.\")",
    "except FileNotFoundError:",
    "    print(f\"AVERTISSEMENT : Le fichier des bénévoles '{fichier_benevoles}' n'a pas été trouvé.\")",
    "",
    "# Concaténer les deux DataFrames",
    "df_entree = pd.concat([df_visiteurs, df_benevoles], ignore_index=True)",
    "print(f\"\nTotal de {len(df_entree)} participants après concaténation.\")",
    "print(\"Aperçu des données combinées :\")",
    "print(df_entree.head())"
   ]
  },
  {
   "cell_type": "markdown",
   "metadata": {},
   "source": [
    "### Étape 3 : Charger les gagnants existants",
    "\n",
    "On vérifie si un tirage a déjà eu lieu pour exclure les anciens gagnants."
   ]
  },
  {
   "cell_type": "code",
   "execution_count": null,
   "metadata": {},
   "outputs": [],
   "source": [
    "tickets_gagnants_existants = []",
    "if os.path.exists(nom_fichier_gagnants):",
    "    df_gagnants_existants = pd.read_excel(nom_fichier_gagnants)",
    "    if not df_gagnants_existants.empty:",
    "        if colonne_id_ticket in df_gagnants_existants.columns:",
    "            tickets_gagnants_existants = df_gagnants_existants[colonne_id_ticket].tolist()",
    "            print(\"\nGagnants existants chargés :\")",
    "            print(df_gagnants_existants)",
    "        else:",
    "            print(f\"La colonne '{colonne_id_ticket}' n'est pas dans le fichier des gagnants.\")",
    "else:",
    "    print(\"\nAucun fichier de gagnants existant. C'est le premier tirage.\")"
   ]
  },
  {
   "cell_type": "markdown",
   "metadata": {},
   "source": [
    "### Étape 4 : Filtrer les participants éligibles",
    "\n",
    "On retire les participants ayant déjà gagné de la liste des participants."
   ]
  },
  {
   "cell_type": "code",
   "execution_count": null,
   "metadata": {},
   "outputs": [],
   "source": [
    "df_eligibles = df_entree[~df_entree[colonne_id_ticket].isin(tickets_gagnants_existants)]",
    "print(f\"Nombre de participants éligibles pour ce tirage : {len(df_eligibles)}\")",
    "print(\"Aperçu des participants éligibles :\")",
    "print(df_eligibles.head())"
   ]
  },
  {
   "cell_type": "markdown",
   "metadata": {},
   "source": [
    "### Étape 5 : Tirer au sort",
    "\n",
    "On définit le nombre de gagnants à tirer, puis on effectue le tirage au sort aléatoire parmi les participants éligibles."
   ]
  },
  {
   "cell_type": "code",
   "execution_count": null,
   "id": "9e580e57",
   "metadata": {},
   "outputs": [],
   "source": [
    "nb_gagnants_a_tirer = input(\"Nombre de gagnants à tirer ? \")",
    "",
    "try:",
    "    nb_gagnants = int(nb_gagnants_a_tirer)",
    "except ValueError:",
    "    print(\"Veuillez entrer un nombre entier pour le nombre de gagnants à tirer.\")",
    "    nb_gagnants = 0",
    "",
    "if nb_gagnants <= 0:",
    "    print(\"Le nombre de gagnants doit être supérieur à zéro.\")",
    "elif len(df_eligibles) < nb_gagnants:",
    "    print(f\"Il n'y a pas assez de participants éligibles pour tirer {nb_gagnants} gagnants.\")",
    "else:",
    "    df_nouveaux_gagnants = df_eligibles.sample(n=nb_gagnants, random_state=np.random.randint(0, 10000))",
    "    print(f\"🎉 Les {nb_gagnants} nouveaux gagnants sont :\")",
    "    print(df_nouveaux_gagnants)"
   ]
  },
  {
   "cell_type": "markdown",
   "metadata": {},
   "source": [
    "### Étape 6 : Mettre à jour et sauvegarder la liste des gagnants",
    "\n",
    "On ajoute les nouveaux gagnants à la liste existante (s'il y en a une) et on sauvegarde le tout dans le fichier Excel des gagnants."
   ]
  },
  {
   "cell_type": "code",
   "execution_count": null,
   "metadata": {},
   "outputs": [],
   "source": [
    "if 'df_nouveaux_gagnants' in locals() and not df_nouveaux_gagnants.empty():",
    "    # Combiner les anciens et les nouveaux gagnants",
    "    if 'df_gagnants_existants' in locals() and not df_gagnants_existants.empty:",
    "        df_final_gagnants = pd.concat([df_gagnants_existants, df_nouveaux_gagnants], ignore_index=True)",
    "    else:",
    "        df_final_gagnants = df_nouveaux_gagnants",
    "",
    "    # Enregistrer la liste complète des gagnants dans le fichier de sortie",
    "    df_final_gagnants.to_excel(nom_fichier_gagnants, index=False)",
    "",
    "    print(f\"\nLa liste complète des gagnants a été mise à jour dans '{nom_fichier_gagnants}'.\")",
    "    print(\"Contenu final du fichier des gagnants :\")",
    "    print(df_final_gagnants)",
    "else:",
    "    print(\"\nAucun nouveau gagnant n'a été tiré.\")"
   ]
  }
 ],
 "metadata": {
  "kernelspec": {
   "display_name": ".env_odoo",
   "language": "python",
   "name": "python3"
  },
  "language_info": {
   "codemirror_mode": {
    "name": "ipython",
    "version": 3
   },
   "file_extension": ".py",
   "mimetype": "text/x-python",
   "name": "python",
   "nbconvert_exporter": "python",
   "pygments_lexer": "ipython3",
   "version": "3.12.11"
  }
 },
 "nbformat": 4,
 "nbformat_minor": 5
}
